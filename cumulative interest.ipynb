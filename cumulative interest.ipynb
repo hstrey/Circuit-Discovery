{
 "cells": [
  {
   "cell_type": "code",
   "execution_count": 5,
   "metadata": {},
   "outputs": [
    {
     "name": "stdout",
     "output_type": "stream",
     "text": [
      "508500.0 8500.0\n",
      "517144.5 8644.5\n",
      "525935.9565 8791.4565\n",
      "534876.8677604999 8940.911260500001\n",
      "543969.7745124284 9092.9067519285\n",
      "553217.2606791398 9247.486166711284\n",
      "562621.9541106852 9404.693431545376\n",
      "572186.5273305668 9564.573219881648\n",
      "581913.6982951864 9727.170964619636\n",
      "591806.2311662046 9892.53287101817\n",
      "601866.93709603 10060.705929825479\n",
      "612098.6750266625 10231.737930632511\n",
      "622504.3525021158 10405.677475453263\n",
      "633086.9264946517 10582.573992535969\n",
      "643849.4042450608 10762.47775040908\n",
      "654794.8441172268 10945.439872166033\n",
      "665926.3564672197 11131.512349992856\n",
      "677247.1045271624 11320.748059942734\n",
      "688760.3053041241 11513.200776961761\n",
      "700469.2304942942 11708.925190170112\n"
     ]
    }
   ],
   "source": [
    "# cumulative interest\n",
    "interest = 0\n",
    "starting_price = 500000\n",
    "rate = 0.017\n",
    "current_price = starting_price\n",
    "for i in range(20):\n",
    "    inter = current_price * rate\n",
    "    current_price = current_price + inter\n",
    "    print(current_price,inter)\n",
    "    \n",
    "    "
   ]
  },
  {
   "cell_type": "code",
   "execution_count": null,
   "metadata": {},
   "outputs": [],
   "source": []
  }
 ],
 "metadata": {
  "kernelspec": {
   "display_name": "Python 3",
   "language": "python",
   "name": "python3"
  },
  "language_info": {
   "codemirror_mode": {
    "name": "ipython",
    "version": 3
   },
   "file_extension": ".py",
   "mimetype": "text/x-python",
   "name": "python",
   "nbconvert_exporter": "python",
   "pygments_lexer": "ipython3",
   "version": "3.6.8"
  }
 },
 "nbformat": 4,
 "nbformat_minor": 2
}
