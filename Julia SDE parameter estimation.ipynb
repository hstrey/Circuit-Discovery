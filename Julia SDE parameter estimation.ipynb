{
 "cells": [
  {
   "cell_type": "code",
   "execution_count": 16,
   "metadata": {},
   "outputs": [
    {
     "name": "stdout",
     "output_type": "stream",
     "text": [
      "\u001b[32m\u001b[1m Resolving\u001b[22m\u001b[39m package versions...\n",
      "\u001b[32m\u001b[1m  Updating\u001b[22m\u001b[39m `~/.julia/environments/v1.3/Project.toml`\n",
      "\u001b[90m [no changes]\u001b[39m\n",
      "\u001b[32m\u001b[1m  Updating\u001b[22m\u001b[39m `~/.julia/environments/v1.3/Manifest.toml`\n",
      "\u001b[90m [no changes]\u001b[39m\n",
      "\u001b[32m\u001b[1m Resolving\u001b[22m\u001b[39m package versions...\n",
      "\u001b[32m\u001b[1m  Updating\u001b[22m\u001b[39m `~/.julia/environments/v1.3/Project.toml`\n",
      "\u001b[90m [no changes]\u001b[39m\n",
      "\u001b[32m\u001b[1m  Updating\u001b[22m\u001b[39m `~/.julia/environments/v1.3/Manifest.toml`\n",
      "\u001b[90m [no changes]\u001b[39m\n",
      "\u001b[32m\u001b[1m Resolving\u001b[22m\u001b[39m package versions...\n",
      "\u001b[32m\u001b[1m  Updating\u001b[22m\u001b[39m `~/.julia/environments/v1.3/Project.toml`\n",
      "\u001b[90m [no changes]\u001b[39m\n",
      "\u001b[32m\u001b[1m  Updating\u001b[22m\u001b[39m `~/.julia/environments/v1.3/Manifest.toml`\n",
      "\u001b[90m [no changes]\u001b[39m\n",
      "\u001b[32m\u001b[1m Resolving\u001b[22m\u001b[39m package versions...\n",
      "\u001b[32m\u001b[1m  Updating\u001b[22m\u001b[39m `~/.julia/environments/v1.3/Project.toml`\n",
      "\u001b[90m [no changes]\u001b[39m\n",
      "\u001b[32m\u001b[1m  Updating\u001b[22m\u001b[39m `~/.julia/environments/v1.3/Manifest.toml`\n",
      "\u001b[90m [no changes]\u001b[39m\n",
      "\u001b[32m\u001b[1m Resolving\u001b[22m\u001b[39m package versions...\n",
      "\u001b[32m\u001b[1m  Updating\u001b[22m\u001b[39m `~/.julia/environments/v1.3/Project.toml`\n",
      "\u001b[90m [no changes]\u001b[39m\n",
      "\u001b[32m\u001b[1m  Updating\u001b[22m\u001b[39m `~/.julia/environments/v1.3/Manifest.toml`\n",
      "\u001b[90m [no changes]\u001b[39m\n",
      "\u001b[32m\u001b[1m Resolving\u001b[22m\u001b[39m package versions...\n",
      "\u001b[32m\u001b[1m  Updating\u001b[22m\u001b[39m `~/.julia/environments/v1.3/Project.toml`\n",
      " \u001b[90m [731186ca]\u001b[39m\u001b[92m + RecursiveArrayTools v2.1.0\u001b[39m\n",
      "\u001b[32m\u001b[1m  Updating\u001b[22m\u001b[39m `~/.julia/environments/v1.3/Manifest.toml`\n",
      "\u001b[90m [no changes]\u001b[39m\n"
     ]
    }
   ],
   "source": [
    "import Pkg\n",
    "Pkg.add(\"DifferentialEquations\")\n",
    "Pkg.add(\"Distributions\")\n",
    "Pkg.add(\"Turing\")\n",
    "Pkg.add(\"DiffEqBayes\")\n",
    "Pkg.add(\"ParameterizedFunctions\")\n",
    "Pkg.add(\"RecursiveArrayTools\")"
   ]
  },
  {
   "cell_type": "code",
   "execution_count": 10,
   "metadata": {},
   "outputs": [
    {
     "data": {
      "text/plain": [
       "2×10 Array{Float64,2}:\n",
       " 2.77065   6.77585  0.979398  1.88623   …  4.3439    3.22968  1.05103 \n",
       " 0.267786  2.01844  1.91243   0.330993     0.309853  4.55666  0.898765"
      ]
     },
     "execution_count": 10,
     "metadata": {},
     "output_type": "execute_result"
    }
   ],
   "source": [
    "using DifferentialEquations\n",
    "using DiffEqBayes\n",
    "using ParameterizedFunctions\n",
    "f1 = @ode_def begin\n",
    "  dx = a*x - b*x*y\n",
    "  dy = -c*y + d*x*y\n",
    "end a b c d\n",
    "p = [1.5,1.0,3.0,1.0]\n",
    "u0 = [1.0,1.0]\n",
    "tspan = (0.0,10.0)\n",
    "prob1 = ODEProblem(f1,u0,tspan,p)\n",
    "sol = solve(prob1,Tsit5())\n",
    "t = collect(range(1,stop=10,length=10))\n",
    "randomized = VectorOfArray([(sol(t[i]) + .01randn(2)) for i in 1:length(t)])\n",
    "data = convert(Array,randomized)"
   ]
  },
  {
   "cell_type": "code",
   "execution_count": 14,
   "metadata": {},
   "outputs": [
    {
     "data": {
      "text/plain": [
       "retcode: Success\n",
       "Interpolation: 1st order linear\n",
       "t: 565-element Array{Float64,1}:\n",
       "  0.0                 \n",
       "  0.011713181719699725\n",
       "  0.01405581806363967 \n",
       "  0.01669128395057211 \n",
       "  0.0196561830733711  \n",
       "  0.022991694586519968\n",
       "  0.026744145038812443\n",
       "  0.030965651797641477\n",
       "  0.03571484690132414 \n",
       "  0.04105769139296714 \n",
       "  0.04706839144606551 \n",
       "  0.053830429005801185\n",
       "  0.061437721260503814\n",
       "  ⋮                   \n",
       "  9.78472527627678    \n",
       "  9.804446250307329   \n",
       "  9.824462256834902   \n",
       "  9.844787365062608   \n",
       "  9.865436405753467   \n",
       "  9.886424933351986   \n",
       "  9.907769132672604   \n",
       "  9.929485734262661   \n",
       "  9.951591864779692   \n",
       "  9.974104915087294   \n",
       "  9.997042292960321   \n",
       " 10.0                 \n",
       "u: 565-element Array{Array{Float64,1},1}:\n",
       " [1.0, 1.0]                              \n",
       " [1.0060114608191897, 0.9768817431109275]\n",
       " [1.00725049704347, 0.9723306421936018]  \n",
       " [1.008658972695803, 0.9672393257242939] \n",
       " [1.010262047105421, 0.9615478254793435] \n",
       " [1.0120889374398112, 0.9551902196642447]\n",
       " [1.0141737172366572, 0.9480952604416616]\n",
       " [1.0165563328794702, 0.9401852762529868]\n",
       " [1.019284050680315, 0.9313766605988406] \n",
       " [1.0224123591937349, 0.9215800529975656]\n",
       " [1.0260069148500142, 0.9107003135120092]\n",
       " [1.030145908807703, 0.898637551562081]  \n",
       " [1.0349222455533458, 0.885288009535429] \n",
       " ⋮                                       \n",
       " [0.9478994216202001, 1.4085908364484785]\n",
       " [0.9501432436172549, 1.352762435419978] \n",
       " [0.9534762213048017, 1.2984342154395287]\n",
       " [0.9579154778908282, 1.2455980004357088]\n",
       " [0.9634822283385591, 1.1942447885745917]\n",
       " [0.9702038123998975, 1.1443644907073538]\n",
       " [0.9781125309799847, 1.0959469493335463]\n",
       " [0.9872472233920572, 1.0489806883549635]\n",
       " [0.9976525620340922, 1.003455790468388] \n",
       " [1.0093795474310008, 0.9593625433592354]\n",
       " [1.0224860144800814, 0.9166912785697274]\n",
       " [1.0242597203296486, 0.911347802087031] "
      ]
     },
     "execution_count": 14,
     "metadata": {},
     "output_type": "execute_result"
    }
   ],
   "source": [
    "pf_func = function (du,u,p,t)\n",
    "  du[1] = p[1] * u[1] - p[2] * u[1]*u[2]\n",
    "  du[2] = -3 * u[2] + u[1]*u[2]\n",
    "end\n",
    "\n",
    "u0 = [1.0;1.0]\n",
    "tspan = (0.0,10.0)\n",
    "p = [1.5,1.0]\n",
    "pg_func = function (du,u,p,t)\n",
    "  du[1] = 1e-6u[1]\n",
    "  du[2] = 1e-6u[2]\n",
    "end\n",
    "prob = SDEProblem(pf_func,pg_func,u0,tspan,p)\n",
    "sol = solve(prob,SRIW1())"
   ]
  },
  {
   "cell_type": "code",
   "execution_count": 17,
   "metadata": {},
   "outputs": [
    {
     "data": {
      "text/plain": [
       "2×200×10000 Array{Float64,3}:\n",
       "[:, :, 1] =\n",
       " 0.997587  1.0343    1.05549   1.11195   …  0.970138  1.00042  1.02059 \n",
       " 1.00707   0.904328  0.813926  0.753695     1.09637   1.00621  0.922412\n",
       "\n",
       "[:, :, 2] =\n",
       " 1.01848  1.03319   1.05163   1.10937   …  0.971732  0.983219  1.0275  \n",
       " 1.01005  0.912574  0.823675  0.745682     1.11926   1.02322   0.927973\n",
       "\n",
       "[:, :, 3] =\n",
       " 1.00908  1.03486   1.0666    1.11408   …  0.976667  0.996377  1.04066 \n",
       " 1.01085  0.909984  0.813516  0.755824     1.13321   1.00299   0.908734\n",
       "\n",
       "...\n",
       "\n",
       "[:, :, 9998] =\n",
       " 0.993568  1.0231    1.0561    1.10903   …  0.974645  0.967264  1.0318  \n",
       " 1.01143   0.906217  0.796896  0.760925     1.12446   1.00199   0.908593\n",
       "\n",
       "[:, :, 9999] =\n",
       " 1.00569  0.995034  1.06941   1.08808   …  0.966421  1.01131  1.02528 \n",
       " 1.00553  0.888381  0.833385  0.747837     1.11895   1.02403  0.916534\n",
       "\n",
       "[:, :, 10000] =\n",
       " 1.0113  1.03626   1.06953   1.08652   …  0.9834   0.965656  1.00204  1.01961\n",
       " 1.002   0.919041  0.825666  0.732445     1.22414  1.1022    1.0342   0.90165"
      ]
     },
     "execution_count": 17,
     "metadata": {},
     "output_type": "execute_result"
    }
   ],
   "source": [
    "using RecursiveArrayTools # for VectorOfArray\n",
    "t = collect(range(0, stop=10, length=200))\n",
    "function generate_data(t)\n",
    "  sol = solve(prob,SRIW1())\n",
    "  randomized = VectorOfArray([(sol(t[i]) + .01randn(2)) for i in 1:length(t)])\n",
    "  data = convert(Array,randomized)\n",
    "end\n",
    "aggregate_data = convert(Array,VectorOfArray([generate_data(t) for i in 1:10000]))"
   ]
  },
  {
   "cell_type": "code",
   "execution_count": 11,
   "metadata": {},
   "outputs": [
    {
     "data": {
      "text/plain": [
       "4-element Array{Truncated{Normal{Float64},Continuous,Float64},1}:\n",
       " Truncated(Normal{Float64}(μ=1.5, σ=0.1), range=(0.0, 2.0))\n",
       " Truncated(Normal{Float64}(μ=1.0, σ=0.1), range=(0.0, 1.5))\n",
       " Truncated(Normal{Float64}(μ=3.0, σ=0.1), range=(0.0, 4.0))\n",
       " Truncated(Normal{Float64}(μ=1.0, σ=0.1), range=(0.0, 2.0))"
      ]
     },
     "execution_count": 11,
     "metadata": {},
     "output_type": "execute_result"
    }
   ],
   "source": [
    "using Distributions\n",
    "priors = [Truncated(Normal(1.5,0.1),0,2),Truncated(Normal(1.0,0.1),0,1.5),\n",
    "          Truncated(Normal(3.0,0.1),0,4),Truncated(Normal(1.0,0.1),0,2)]"
   ]
  },
  {
   "cell_type": "code",
   "execution_count": 18,
   "metadata": {},
   "outputs": [
    {
     "ename": "BoundsError",
     "evalue": "BoundsError: attempt to access 2×200×10000 Array{Float64,3} at index [Base.Slice(Base.OneTo(2)), 1]",
     "output_type": "error",
     "traceback": [
      "BoundsError: attempt to access 2×200×10000 Array{Float64,3} at index [Base.Slice(Base.OneTo(2)), 1]",
      "",
      "Stacktrace:",
      " [1] throw_boundserror(::Array{Float64,3}, ::Tuple{Base.Slice{Base.OneTo{Int64}},Int64}) at ./abstractarray.jl:538",
      " [2] checkbounds at ./abstractarray.jl:503 [inlined]",
      " [3] _getindex at ./multidimensional.jl:669 [inlined]",
      " [4] getindex at ./abstractarray.jl:981 [inlined]",
      " [5] macro expansion at /Users/hstrey/.julia/packages/DynamicPPL/nsoCZ/src/compiler.jl:186 [inlined]",
      " [6] macro expansion at /Users/hstrey/.julia/packages/DiffEqBayes/2Xqpj/src/turing_inference.jl:45 [inlined]",
      " [7] (::DiffEqBayes.var\"##inner_function#426#11\"{Array{InverseGamma{Float64},1},DiffEqBayes.var\"#7#16\",Array{DynamicPPL.VarName{:theta},1},Base.Iterators.Pairs{Union{},Union{},Tuple{},NamedTuple{(),Tuple{}}},SDEProblem{Array{Float64,1},Tuple{Float64,Float64},true,Array{Float64,1},Nothing,SDEFunction{true,var\"#13#14\",var\"#15#16\",LinearAlgebra.UniformScaling{Bool},Nothing,Nothing,Nothing,Nothing,Nothing,Nothing,Nothing,Nothing,Nothing,Nothing,Nothing,Nothing},var\"#15#16\",Base.Iterators.Pairs{Union{},Union{},Tuple{},NamedTuple{(),Tuple{}}},Nothing},Tsit5,Array{Float64,1},Array{Truncated{Normal{Float64},Continuous,Float64},1}})(::DynamicPPL.VarInfo{DynamicPPL.Metadata{Dict{DynamicPPL.VarName,Int64},Array{Distribution,1},Array{DynamicPPL.VarName,1},Array{Real,1},Array{Set{DynamicPPL.Selector},1}},Real}, ::DynamicPPL.SampleFromPrior, ::DynamicPPL.DefaultContext, ::DynamicPPL.Model{DiffEqBayes.var\"##inner_function#426#11\"{Array{InverseGamma{Float64},1},DiffEqBayes.var\"#7#16\",Array{DynamicPPL.VarName{:theta},1},Base.Iterators.Pairs{Union{},Union{},Tuple{},NamedTuple{(),Tuple{}}},SDEProblem{Array{Float64,1},Tuple{Float64,Float64},true,Array{Float64,1},Nothing,SDEFunction{true,var\"#13#14\",var\"#15#16\",LinearAlgebra.UniformScaling{Bool},Nothing,Nothing,Nothing,Nothing,Nothing,Nothing,Nothing,Nothing,Nothing,Nothing,Nothing,Nothing},var\"#15#16\",Base.Iterators.Pairs{Union{},Union{},Tuple{},NamedTuple{(),Tuple{}}},Nothing},Tsit5,Array{Float64,1},Array{Truncated{Normal{Float64},Continuous,Float64},1}},NamedTuple{(:x, :T),Tuple{Array{Float64,3},Type{Float64}}},DynamicPPL.ModelGen{(:x, :T),DiffEqBayes.var\"##mf#452#9\"{DiffEqBayes.var\"##mf#452#2#10\",Array{InverseGamma{Float64},1},DiffEqBayes.var\"#7#16\",Array{DynamicPPL.VarName{:theta},1},Base.Iterators.Pairs{Union{},Union{},Tuple{},NamedTuple{(),Tuple{}}},SDEProblem{Array{Float64,1},Tuple{Float64,Float64},true,Array{Float64,1},Nothing,SDEFunction{true,var\"#13#14\",var\"#15#16\",LinearAlgebra.UniformScaling{Bool},Nothing,Nothing,Nothing,Nothing,Nothing,Nothing,Nothing,Nothing,Nothing,Nothing,Nothing,Nothing},var\"#15#16\",Base.Iterators.Pairs{Union{},Union{},Tuple{},NamedTuple{(),Tuple{}}},Nothing},Tsit5,Array{Float64,1},Array{Truncated{Normal{Float64},Continuous,Float64},1}},NamedTuple{(:T,),Tuple{Type{Float64}}}},Val{()}}) at /Users/hstrey/.julia/packages/DynamicPPL/nsoCZ/src/compiler.jl:591",
      " [8] #_#3 at /Users/hstrey/.julia/packages/DynamicPPL/nsoCZ/src/model.jl:24 [inlined]",
      " [9] Model at /Users/hstrey/.julia/packages/DynamicPPL/nsoCZ/src/model.jl:24 [inlined]",
      " [10] VarInfo at /Users/hstrey/.julia/packages/DynamicPPL/nsoCZ/src/varinfo.jl:138 [inlined]",
      " [11] VarInfo at /Users/hstrey/.julia/packages/DynamicPPL/nsoCZ/src/varinfo.jl:137 [inlined]",
      " [12] DynamicPPL.Sampler(::NUTS{Turing.Core.ForwardDiffAD{40},(),AdvancedHMC.Adaptation.DiagEuclideanMetric}, ::DynamicPPL.Model{DiffEqBayes.var\"##inner_function#426#11\"{Array{InverseGamma{Float64},1},DiffEqBayes.var\"#7#16\",Array{DynamicPPL.VarName{:theta},1},Base.Iterators.Pairs{Union{},Union{},Tuple{},NamedTuple{(),Tuple{}}},SDEProblem{Array{Float64,1},Tuple{Float64,Float64},true,Array{Float64,1},Nothing,SDEFunction{true,var\"#13#14\",var\"#15#16\",LinearAlgebra.UniformScaling{Bool},Nothing,Nothing,Nothing,Nothing,Nothing,Nothing,Nothing,Nothing,Nothing,Nothing,Nothing,Nothing},var\"#15#16\",Base.Iterators.Pairs{Union{},Union{},Tuple{},NamedTuple{(),Tuple{}}},Nothing},Tsit5,Array{Float64,1},Array{Truncated{Normal{Float64},Continuous,Float64},1}},NamedTuple{(:x, :T),Tuple{Array{Float64,3},Type{Float64}}},DynamicPPL.ModelGen{(:x, :T),DiffEqBayes.var\"##mf#452#9\"{DiffEqBayes.var\"##mf#452#2#10\",Array{InverseGamma{Float64},1},DiffEqBayes.var\"#7#16\",Array{DynamicPPL.VarName{:theta},1},Base.Iterators.Pairs{Union{},Union{},Tuple{},NamedTuple{(),Tuple{}}},SDEProblem{Array{Float64,1},Tuple{Float64,Float64},true,Array{Float64,1},Nothing,SDEFunction{true,var\"#13#14\",var\"#15#16\",LinearAlgebra.UniformScaling{Bool},Nothing,Nothing,Nothing,Nothing,Nothing,Nothing,Nothing,Nothing,Nothing,Nothing,Nothing,Nothing},var\"#15#16\",Base.Iterators.Pairs{Union{},Union{},Tuple{},NamedTuple{(),Tuple{}}},Nothing},Tsit5,Array{Float64,1},Array{Truncated{Normal{Float64},Continuous,Float64},1}},NamedTuple{(:T,),Tuple{Type{Float64}}}},Val{()}}, ::DynamicPPL.Selector) at /Users/hstrey/.julia/packages/Turing/a0nSz/src/inference/hmc.jl:304",
      " [13] Sampler at /Users/hstrey/.julia/packages/Turing/a0nSz/src/inference/hmc.jl:302 [inlined]",
      " [14] #sample#2(::Nothing, ::Base.Iterators.Pairs{Union{},Union{},Tuple{},NamedTuple{(),Tuple{}}}, ::typeof(sample), ::DynamicPPL.Model{DiffEqBayes.var\"##inner_function#426#11\"{Array{InverseGamma{Float64},1},DiffEqBayes.var\"#7#16\",Array{DynamicPPL.VarName{:theta},1},Base.Iterators.Pairs{Union{},Union{},Tuple{},NamedTuple{(),Tuple{}}},SDEProblem{Array{Float64,1},Tuple{Float64,Float64},true,Array{Float64,1},Nothing,SDEFunction{true,var\"#13#14\",var\"#15#16\",LinearAlgebra.UniformScaling{Bool},Nothing,Nothing,Nothing,Nothing,Nothing,Nothing,Nothing,Nothing,Nothing,Nothing,Nothing,Nothing},var\"#15#16\",Base.Iterators.Pairs{Union{},Union{},Tuple{},NamedTuple{(),Tuple{}}},Nothing},Tsit5,Array{Float64,1},Array{Truncated{Normal{Float64},Continuous,Float64},1}},NamedTuple{(:x, :T),Tuple{Array{Float64,3},Type{Float64}}},DynamicPPL.ModelGen{(:x, :T),DiffEqBayes.var\"##mf#452#9\"{DiffEqBayes.var\"##mf#452#2#10\",Array{InverseGamma{Float64},1},DiffEqBayes.var\"#7#16\",Array{DynamicPPL.VarName{:theta},1},Base.Iterators.Pairs{Union{},Union{},Tuple{},NamedTuple{(),Tuple{}}},SDEProblem{Array{Float64,1},Tuple{Float64,Float64},true,Array{Float64,1},Nothing,SDEFunction{true,var\"#13#14\",var\"#15#16\",LinearAlgebra.UniformScaling{Bool},Nothing,Nothing,Nothing,Nothing,Nothing,Nothing,Nothing,Nothing,Nothing,Nothing,Nothing,Nothing},var\"#15#16\",Base.Iterators.Pairs{Union{},Union{},Tuple{},NamedTuple{(),Tuple{}}},Nothing},Tsit5,Array{Float64,1},Array{Truncated{Normal{Float64},Continuous,Float64},1}},NamedTuple{(:T,),Tuple{Type{Float64}}}},Val{()}}, ::NUTS{Turing.Core.ForwardDiffAD{40},(),AdvancedHMC.Adaptation.DiagEuclideanMetric}, ::Int64) at /Users/hstrey/.julia/packages/Turing/a0nSz/src/inference/Inference.jl:159",
      " [15] sample(::DynamicPPL.Model{DiffEqBayes.var\"##inner_function#426#11\"{Array{InverseGamma{Float64},1},DiffEqBayes.var\"#7#16\",Array{DynamicPPL.VarName{:theta},1},Base.Iterators.Pairs{Union{},Union{},Tuple{},NamedTuple{(),Tuple{}}},SDEProblem{Array{Float64,1},Tuple{Float64,Float64},true,Array{Float64,1},Nothing,SDEFunction{true,var\"#13#14\",var\"#15#16\",LinearAlgebra.UniformScaling{Bool},Nothing,Nothing,Nothing,Nothing,Nothing,Nothing,Nothing,Nothing,Nothing,Nothing,Nothing,Nothing},var\"#15#16\",Base.Iterators.Pairs{Union{},Union{},Tuple{},NamedTuple{(),Tuple{}}},Nothing},Tsit5,Array{Float64,1},Array{Truncated{Normal{Float64},Continuous,Float64},1}},NamedTuple{(:x, :T),Tuple{Array{Float64,3},Type{Float64}}},DynamicPPL.ModelGen{(:x, :T),DiffEqBayes.var\"##mf#452#9\"{DiffEqBayes.var\"##mf#452#2#10\",Array{InverseGamma{Float64},1},DiffEqBayes.var\"#7#16\",Array{DynamicPPL.VarName{:theta},1},Base.Iterators.Pairs{Union{},Union{},Tuple{},NamedTuple{(),Tuple{}}},SDEProblem{Array{Float64,1},Tuple{Float64,Float64},true,Array{Float64,1},Nothing,SDEFunction{true,var\"#13#14\",var\"#15#16\",LinearAlgebra.UniformScaling{Bool},Nothing,Nothing,Nothing,Nothing,Nothing,Nothing,Nothing,Nothing,Nothing,Nothing,Nothing,Nothing},var\"#15#16\",Base.Iterators.Pairs{Union{},Union{},Tuple{},NamedTuple{(),Tuple{}}},Nothing},Tsit5,Array{Float64,1},Array{Truncated{Normal{Float64},Continuous,Float64},1}},NamedTuple{(:T,),Tuple{Type{Float64}}}},Val{()}}, ::NUTS{Turing.Core.ForwardDiffAD{40},(),AdvancedHMC.Adaptation.DiagEuclideanMetric}, ::Int64) at /Users/hstrey/.julia/packages/Turing/a0nSz/src/inference/Inference.jl:158",
      " [16] #turing_inference#1(::Array{InverseGamma{Float64},1}, ::DiffEqBayes.var\"#7#16\", ::Int64, ::NUTS{Turing.Core.ForwardDiffAD{40},(),AdvancedHMC.Adaptation.DiagEuclideanMetric}, ::Array{DynamicPPL.VarName{:theta},1}, ::Base.Iterators.Pairs{Union{},Union{},Tuple{},NamedTuple{(),Tuple{}}}, ::typeof(turing_inference), ::SDEProblem{Array{Float64,1},Tuple{Float64,Float64},true,Array{Float64,1},Nothing,SDEFunction{true,var\"#13#14\",var\"#15#16\",LinearAlgebra.UniformScaling{Bool},Nothing,Nothing,Nothing,Nothing,Nothing,Nothing,Nothing,Nothing,Nothing,Nothing,Nothing,Nothing},var\"#15#16\",Base.Iterators.Pairs{Union{},Union{},Tuple{},NamedTuple{(),Tuple{}}},Nothing}, ::Tsit5, ::Array{Float64,1}, ::Array{Float64,3}, ::Array{Truncated{Normal{Float64},Continuous,Float64},1}) at /Users/hstrey/.julia/packages/DiffEqBayes/2Xqpj/src/turing_inference.jl:53",
      " [17] (::DiffEqBayes.var\"#kw##turing_inference\")(::NamedTuple{(:num_samples,),Tuple{Int64}}, ::typeof(turing_inference), ::SDEProblem{Array{Float64,1},Tuple{Float64,Float64},true,Array{Float64,1},Nothing,SDEFunction{true,var\"#13#14\",var\"#15#16\",LinearAlgebra.UniformScaling{Bool},Nothing,Nothing,Nothing,Nothing,Nothing,Nothing,Nothing,Nothing,Nothing,Nothing,Nothing,Nothing},var\"#15#16\",Base.Iterators.Pairs{Union{},Union{},Tuple{},NamedTuple{(),Tuple{}}},Nothing}, ::Tsit5, ::Array{Float64,1}, ::Array{Float64,3}, ::Array{Truncated{Normal{Float64},Continuous,Float64},1}) at ./none:0",
      " [18] top-level scope at In[18]:2"
     ]
    }
   ],
   "source": [
    "using Turing\n",
    "bayesian_result = turing_inference(prob,Tsit5(),t,aggregate_data,priors;num_samples=500)"
   ]
  },
  {
   "cell_type": "code",
   "execution_count": null,
   "metadata": {},
   "outputs": [],
   "source": []
  }
 ],
 "metadata": {
  "kernelspec": {
   "display_name": "Julia 1.3.0-rc4",
   "language": "julia",
   "name": "julia-1.3"
  },
  "language_info": {
   "file_extension": ".jl",
   "mimetype": "application/julia",
   "name": "julia",
   "version": "1.3.1"
  }
 },
 "nbformat": 4,
 "nbformat_minor": 2
}
